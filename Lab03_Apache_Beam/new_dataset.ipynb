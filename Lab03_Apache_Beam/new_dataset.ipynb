{
 "cells": [
  {
   "cell_type": "code",
   "execution_count": 1,
   "id": "415c1148",
   "metadata": {},
   "outputs": [
    {
     "name": "stdout",
     "output_type": "stream",
     "text": [
      "CSV file created: data/product_reviews.csv (500 rows)\n"
     ]
    }
   ],
   "source": [
    "# %% \n",
    "import csv, random, os\n",
    "\n",
    "os.makedirs(\"data\", exist_ok=True)\n",
    "\n",
    "products = [\"Headphones\", \"Charger\", \"Laptop\", \"Desk\", \"Lights\"]\n",
    "\n",
    "positive_phrases = [\n",
    "    \"good quality\", \"works great\", \"very useful\", \"amazing product\",\n",
    "    \"excellent performance\", \"love it\", \"value for money\", \"super fast\",\n",
    "    \"bright and clear\", \"comfortable to use\"\n",
    "]\n",
    "\n",
    "neutral_phrases = [\n",
    "    \"okay\", \"decent\", \"average\", \"works fine\", \"not bad\", \"reasonable\"\n",
    "]\n",
    "\n",
    "negative_phrases = [\n",
    "    \"bad\", \"poor quality\", \"stopped working\", \"heats up\", \"disappointing\",\n",
    "    \"not working\", \"too expensive\", \"low quality\"\n",
    "]\n",
    "\n",
    "rows = []\n",
    "for i in range(1, 501):\n",
    "    product = random.choice(products)\n",
    "    sentiment_group = random.choices(\n",
    "        [positive_phrases, neutral_phrases, negative_phrases],\n",
    "        weights=[0.5, 0.3, 0.2],\n",
    "        k=1\n",
    "    )[0]\n",
    "    review_text = \" \".join(random.choices(sentiment_group, k=random.randint(1, 3)))\n",
    "    rating = random.randint(1, 5)\n",
    "    rows.append([i, product, review_text, rating])\n",
    "\n",
    "with open(\"data/product_reviews.csv\", \"w\", newline=\"\", encoding=\"utf-8\") as f:\n",
    "    writer = csv.writer(f)\n",
    "    writer.writerow([\"review_id\", \"product_name\", \"review_text\", \"rating\"])\n",
    "    writer.writerows(rows)\n",
    "\n",
    "print(\"CSV file created: data/product_reviews.csv (500 rows)\")\n"
   ]
  },
  {
   "cell_type": "code",
   "execution_count": 4,
   "id": "e45526a8",
   "metadata": {},
   "outputs": [
    {
     "name": "stdout",
     "output_type": "stream",
     "text": [
      "Beam pipeline completed. Check 'outputs/' folder for results.\n"
     ]
    }
   ],
   "source": [
    "# %%\n",
    "import apache_beam as beam\n",
    "import csv\n",
    "import re\n",
    "\n",
    "# Input and output paths\n",
    "input_file = 'data/product_reviews.csv'\n",
    "output_prefix = 'outputs/product_wordcount'\n",
    "\n",
    "def parse_csv(line):\n",
    "    \"\"\"Parse CSV line and return (product_name, review_text).\"\"\"\n",
    "    try:\n",
    "        for row in csv.reader([line]):\n",
    "            if row[0] == 'review_id':  # Skip header\n",
    "                return None\n",
    "            return (row[1], row[2])  # (product_name, review_text)\n",
    "    except Exception:\n",
    "        return None\n",
    "\n",
    "def extract_words(record):\n",
    "    \"\"\"Extract all words from review_text for each product.\"\"\"\n",
    "    product, review = record\n",
    "    words = re.findall(r\"[A-Za-z']+\", review.lower())  # tokenize and lowercase\n",
    "    return [(product, word) for word in words]\n",
    "\n",
    "with beam.Pipeline() as p:\n",
    "    (\n",
    "        p\n",
    "        | 'Read CSV' >> beam.io.ReadFromText(input_file, skip_header_lines=1)\n",
    "        | 'Parse CSV' >> beam.Map(lambda line: next(csv.reader([line])))\n",
    "        | 'Extract words' >> beam.FlatMap(\n",
    "            lambda row: [(row[1], word) for word in re.findall(r\"[A-Za-z']+\", row[2].lower())]\n",
    "        )\n",
    "        | 'Pair with 1' >> beam.Map(lambda x: (x, 1))\n",
    "        | 'Count per product-word' >> beam.CombinePerKey(sum)\n",
    "        | 'Format results' >> beam.Map(lambda kv: f\"{kv[0][0]} - {kv[0][1]}: {kv[1]}\")\n",
    "        | 'Write results' >> beam.io.WriteToText(output_prefix, file_name_suffix='.txt')\n",
    "    )\n",
    "\n",
    "print(\"Beam pipeline completed. Check 'outputs/' folder for results.\")\n"
   ]
  }
 ],
 "metadata": {
  "kernelspec": {
   "display_name": "beam_env",
   "language": "python",
   "name": "python3"
  },
  "language_info": {
   "codemirror_mode": {
    "name": "ipython",
    "version": 3
   },
   "file_extension": ".py",
   "mimetype": "text/x-python",
   "name": "python",
   "nbconvert_exporter": "python",
   "pygments_lexer": "ipython3",
   "version": "3.12.4"
  }
 },
 "nbformat": 4,
 "nbformat_minor": 5
}
